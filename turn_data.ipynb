{
 "cells": [
  {
   "cell_type": "code",
   "execution_count": 3,
   "metadata": {},
   "outputs": [],
   "source": [
    "import pickle\n",
    "import numpy"
   ]
  },
  {
   "cell_type": "code",
   "execution_count": 35,
   "metadata": {},
   "outputs": [],
   "source": [
    "ann_file = 'data/nturgbd/ntu60_hrnet_kbc.pkl'\n",
    "# ann_file = 'data/fsd10/fsd10_kbc.pkl'\n",
    "pkl_file = 'work_dirs/ctrgcn/ctrgcn_pyskl_ntu60_xview_hrnet/b/9605.pkl'\n",
    "out_file = 'work_dirs/ctrgcn/ctrgcn_pyskl_ntu60_xview_hrnet/fuse/b2.pkl'"
   ]
  },
  {
   "cell_type": "code",
   "execution_count": 36,
   "metadata": {},
   "outputs": [],
   "source": [
    "f = open(ann_file, 'rb')\n",
    "data = pickle.load(f)\n",
    "f.close()\n",
    "f = open(pkl_file, 'rb')\n",
    "result = pickle.load(f)\n",
    "f.close()"
   ]
  },
  {
   "cell_type": "code",
   "execution_count": 37,
   "metadata": {},
   "outputs": [],
   "source": [
    "val_identifiers = data['split']['xview_val']\n",
    "labels = []\n",
    "for identifier in val_identifiers:\n",
    "    for i in range(len(data['annotations'])):\n",
    "        if (data['annotations'][i]['frame_dir'] == identifier):\n",
    "            labels.append(data['annotations'][i]['label'])\n",
    "            break"
   ]
  },
  {
   "cell_type": "code",
   "execution_count": 38,
   "metadata": {},
   "outputs": [],
   "source": [
    "pkl = []\n",
    "for i in range(len(labels)):\n",
    "    sample_dict = {}\n",
    "    sample_dict['pred_scores'] = result[i] \n",
    "    sample_dict['gt_labels'] = labels[i]\n",
    "    pkl.append(sample_dict)"
   ]
  },
  {
   "cell_type": "code",
   "execution_count": 39,
   "metadata": {},
   "outputs": [],
   "source": [
    "with open(out_file, 'wb') as f:\n",
    "    pickle.dump(pkl, f)"
   ]
  }
 ],
 "metadata": {
  "kernelspec": {
   "display_name": "pyskl",
   "language": "python",
   "name": "python3"
  },
  "language_info": {
   "codemirror_mode": {
    "name": "ipython",
    "version": 3
   },
   "file_extension": ".py",
   "mimetype": "text/x-python",
   "name": "python",
   "nbconvert_exporter": "python",
   "pygments_lexer": "ipython3",
   "version": "3.7.11"
  },
  "orig_nbformat": 4
 },
 "nbformat": 4,
 "nbformat_minor": 2
}
