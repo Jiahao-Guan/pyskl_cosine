{
 "cells": [
  {
   "cell_type": "code",
   "execution_count": null,
   "metadata": {
    "is_executing": true
   },
   "outputs": [],
   "source": [
    "import pickle\n",
    "import numpy as np\n",
    "from scipy.special import softmax"
   ]
  },
  {
   "cell_type": "code",
   "execution_count": 22,
   "metadata": {},
   "outputs": [],
   "source": [
    "pkl_file = '/home/guanjh/pyskl/work_dirs/ctrgcn/ctrgcn_fsd10/j_withoutPreNormalize2D/best_pred.pkl'\n",
    "f = open(pkl_file, 'rb')\n",
    "results = pickle.load(f)\n",
    "f.close()"
   ]
  },
  {
   "cell_type": "code",
   "execution_count": 79,
   "metadata": {},
   "outputs": [],
   "source": [
    "ann_file = '/home/guanjh/pyskl/data/fsd10/fsd10.pkl'\n",
    "f = open(ann_file, 'rb')\n",
    "data = pickle.load(f)\n",
    "f.close()\n",
    "val_identifiers = data['split']['val']\n",
    "gt_labels = []\n",
    "gt_labels_identifier = {}\n",
    "gt_frame_dir = []\n",
    "for identifier in val_identifiers:\n",
    "    for i in range(len(data['annotations'])):\n",
    "        if (data['annotations'][i]['frame_dir'] == identifier):\n",
    "            gt_labels.append([data['annotations'][i]['label']])\n",
    "            if data['annotations'][i]['label'] not in gt_labels_identifier:\n",
    "                gt_labels_identifier[data['annotations'][i]['label']] = data['annotations'][i]['frame_dir'].split(\"_\")[0]\n",
    "            gt_frame_dir.append([data['annotations'][i]['frame_dir']])\n",
    "            break\n",
    "gt_labels = np.array(gt_labels)\n",
    "gt_frame_dir = np.array(gt_frame_dir)"
   ]
  },
  {
   "cell_type": "code",
   "execution_count": 94,
   "metadata": {},
   "outputs": [
    {
     "name": "stdout",
     "output_type": "stream",
     "text": [
      "{2: 'ChoreoSequence1', 0: 'ChComboSpin4', 3: '3Loop', 4: 'StepSequence3', 7: '3Axel', 9: '3Lutz', 6: 'FlyCamelSpin4', 5: '3Flip', 1: '2Axel', 8: '3Lutz'}\n"
     ]
    }
   ],
   "source": [
    "print(gt_labels_identifier)"
   ]
  },
  {
   "cell_type": "code",
   "execution_count": 97,
   "metadata": {},
   "outputs": [
    {
     "name": "stdout",
     "output_type": "stream",
     "text": [
      "[('ChoreoSequence1_n12_p01_g12', 'StepSequence3'), ('3Axel_n28_p11_g01', '2Axel'), ('ChoreoSequence1_n11_p03_g12', 'StepSequence3'), ('3Flip_n29_p07_g08', '3Lutz'), ('ChoreoSequence1_n28_p07_g12', 'StepSequence3'), ('2Axel_n10_p01_g04', '3Axel'), ('3Loop_n35_p03_g06', '3Axel'), ('3Lutz_3Toeloop_n09_p09_g06', '3Lutz'), ('FlyCamelSpin4_n17_p04_g05', 'ChComboSpin4'), ('ChoreoSequence1_n12_p02_g05', 'StepSequence3'), ('ChoreoSequence1_n11_p10_g05', 'StepSequence3'), ('ChoreoSequence1_n30_p09_g05', 'StepSequence3'), ('3Loop_n32_p04_g08', '3Lutz'), ('3Lutz_3Toeloop_n23_p05_g04', '3Lutz'), ('ChoreoSequence1_n33_p16_g12', 'StepSequence3'), ('3Loop_n09_p10_g09', '2Axel'), ('3Flip_n01_p01_g01', '3Lutz'), ('ChoreoSequence1_n14_p09_g12', 'StepSequence3'), ('FlyCamelSpin4_n08_p02_g03', '3Lutz'), ('StepSequence3_n04_p06_g05', 'ChoreoSequence1'), ('2Axel_n31_p02_g11', '3Axel'), ('StepSequence3_n21_p06_g04', 'ChoreoSequence1'), ('3Flip_n33_p12_g10', '3Lutz'), ('ChoreoSequence1_n29_p07_g12', 'StepSequence3'), ('ChoreoSequence1_n16_p05_g02', 'StepSequence3'), ('ChoreoSequence1_n22_p08_g11', 'StepSequence3'), ('ChoreoSequence1_n30_p07_g06', 'StepSequence3'), ('2Axel_n25_p01_g09', '3Loop'), ('ChoreoSequence1_n33_p03_g10', 'StepSequence3'), ('3Axel_n08_p02_g04', '2Axel'), ('ChoreoSequence1_n34_p02_g05', 'StepSequence3'), ('StepSequence3_n26_p04_g05', 'ChoreoSequence1'), ('3Loop_n06_p03_g06', '3Lutz'), ('ChComboSpin4_n29_p03_g07', 'FlyCamelSpin4'), ('2Axel_n06_p06_g02', '3Axel'), ('3Axel_n37_p01_g03', '2Axel'), ('3Flip_n28_p02_g09', '3Loop'), ('ChoreoSequence1_n22_p02_g06', 'StepSequence3'), ('3Axel_n19_p07_g02', 'StepSequence3'), ('ChoreoSequence1_n07_p03_g12', 'StepSequence3'), ('ChoreoSequence1_n01_p06_g09', 'StepSequence3'), ('ChoreoSequence1_n33_p12_g12', 'StepSequence3')]\n"
     ]
    }
   ],
   "source": [
    "# 获取概率第一的预测\n",
    "pred_labels = np.argsort(results, axis=1)[:, -1:][:, ::-1]\n",
    "# 与真实标签比较\n",
    "match_array = np.logical_or.reduce(pred_labels == gt_labels, axis=-1)\n",
    "# 获取到不匹配的下标\n",
    "unmatch_indices = np.where(match_array == False)[0]\n",
    "# 获取到不匹配的结果信息\n",
    "pred_labels_false = pred_labels[unmatch_indices]\n",
    "gt_labels_false = gt_labels[unmatch_indices]\n",
    "pred_frame_dir_false = []\n",
    "for pred_label_false in pred_labels_false:\n",
    "    pred_frame_dir_false.append(gt_labels_identifier.get(pred_label_false[0]))\n",
    "gt_frame_dir_false = gt_frame_dir[unmatch_indices]\n",
    "#print(pred_labels_false)\n",
    "#print(gt_labels_false)\n",
    "#print(pred_frame_dir_false)\n",
    "#print(gt_frame_dir_false)\n",
    "\n",
    "false_sample = []\n",
    "for i in range(len(pred_labels_false)):\n",
    "    false_sample.append((gt_frame_dir_false[i][0],pred_frame_dir_false[i]))\n",
    "print(false_sample)"
   ]
  }
 ],
 "metadata": {
  "kernelspec": {
   "display_name": "openmmlab",
   "language": "python",
   "name": "python3"
  },
  "language_info": {
   "codemirror_mode": {
    "name": "ipython",
    "version": 3
   },
   "file_extension": ".py",
   "mimetype": "text/x-python",
   "name": "python",
   "nbconvert_exporter": "python",
   "pygments_lexer": "ipython3",
   "version": "3.7.11"
  },
  "orig_nbformat": 4
 },
 "nbformat": 4,
 "nbformat_minor": 2
}
